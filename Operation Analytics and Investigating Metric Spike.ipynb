{
 "cells": [
  {
   "cell_type": "code",
   "execution_count": 1,
   "id": "4a92b064-e562-45af-b794-3c3e0bac41dd",
   "metadata": {
    "tags": []
   },
   "outputs": [],
   "source": [
    "import pandas as pd\n",
    "import mysql.connector\n",
    "from datetime import datetime\n",
    "from matplotlib import pyplot as plt"
   ]
  },
  {
   "cell_type": "code",
   "execution_count": 2,
   "id": "a9088620-6e07-446d-bf47-46e40bd8e3e9",
   "metadata": {
    "tags": []
   },
   "outputs": [],
   "source": [
    "df = pd.read_csv(\"SQL-Project-1-Table.csv\")"
   ]
  },
  {
   "cell_type": "code",
   "execution_count": 3,
   "id": "18b3b91e-68ee-4c66-b021-ca3f9ad7ce12",
   "metadata": {
    "tags": []
   },
   "outputs": [
    {
     "data": {
      "text/html": [
       "<div>\n",
       "<style scoped>\n",
       "    .dataframe tbody tr th:only-of-type {\n",
       "        vertical-align: middle;\n",
       "    }\n",
       "\n",
       "    .dataframe tbody tr th {\n",
       "        vertical-align: top;\n",
       "    }\n",
       "\n",
       "    .dataframe thead th {\n",
       "        text-align: right;\n",
       "    }\n",
       "</style>\n",
       "<table border=\"1\" class=\"dataframe\">\n",
       "  <thead>\n",
       "    <tr style=\"text-align: right;\">\n",
       "      <th></th>\n",
       "      <th>ds</th>\n",
       "      <th>job_id</th>\n",
       "      <th>actor_id</th>\n",
       "      <th>event</th>\n",
       "      <th>language</th>\n",
       "      <th>time_spent</th>\n",
       "      <th>org</th>\n",
       "    </tr>\n",
       "  </thead>\n",
       "  <tbody>\n",
       "    <tr>\n",
       "      <th>0</th>\n",
       "      <td>30-11-2020</td>\n",
       "      <td>21</td>\n",
       "      <td>1001</td>\n",
       "      <td>skip</td>\n",
       "      <td>English</td>\n",
       "      <td>15</td>\n",
       "      <td>A</td>\n",
       "    </tr>\n",
       "    <tr>\n",
       "      <th>1</th>\n",
       "      <td>30-11-2020</td>\n",
       "      <td>22</td>\n",
       "      <td>1006</td>\n",
       "      <td>transfer</td>\n",
       "      <td>Arabic</td>\n",
       "      <td>25</td>\n",
       "      <td>B</td>\n",
       "    </tr>\n",
       "    <tr>\n",
       "      <th>2</th>\n",
       "      <td>29-11-2020</td>\n",
       "      <td>23</td>\n",
       "      <td>1003</td>\n",
       "      <td>decision</td>\n",
       "      <td>Persian</td>\n",
       "      <td>20</td>\n",
       "      <td>C</td>\n",
       "    </tr>\n",
       "    <tr>\n",
       "      <th>3</th>\n",
       "      <td>28-11-2020</td>\n",
       "      <td>23</td>\n",
       "      <td>1005</td>\n",
       "      <td>transfer</td>\n",
       "      <td>Persian</td>\n",
       "      <td>22</td>\n",
       "      <td>D</td>\n",
       "    </tr>\n",
       "    <tr>\n",
       "      <th>4</th>\n",
       "      <td>28-11-2020</td>\n",
       "      <td>25</td>\n",
       "      <td>1002</td>\n",
       "      <td>decision</td>\n",
       "      <td>Hindi</td>\n",
       "      <td>11</td>\n",
       "      <td>B</td>\n",
       "    </tr>\n",
       "    <tr>\n",
       "      <th>5</th>\n",
       "      <td>27-11-2020</td>\n",
       "      <td>11</td>\n",
       "      <td>1007</td>\n",
       "      <td>decision</td>\n",
       "      <td>French</td>\n",
       "      <td>104</td>\n",
       "      <td>D</td>\n",
       "    </tr>\n",
       "    <tr>\n",
       "      <th>6</th>\n",
       "      <td>26-11-2020</td>\n",
       "      <td>23</td>\n",
       "      <td>1004</td>\n",
       "      <td>skip</td>\n",
       "      <td>Persian</td>\n",
       "      <td>56</td>\n",
       "      <td>A</td>\n",
       "    </tr>\n",
       "    <tr>\n",
       "      <th>7</th>\n",
       "      <td>25-11-2020</td>\n",
       "      <td>20</td>\n",
       "      <td>1003</td>\n",
       "      <td>transfer</td>\n",
       "      <td>Italian</td>\n",
       "      <td>45</td>\n",
       "      <td>C</td>\n",
       "    </tr>\n",
       "  </tbody>\n",
       "</table>\n",
       "</div>"
      ],
      "text/plain": [
       "           ds  job_id  actor_id     event language  time_spent org\n",
       "0  30-11-2020      21      1001      skip  English          15   A\n",
       "1  30-11-2020      22      1006  transfer   Arabic          25   B\n",
       "2  29-11-2020      23      1003  decision  Persian          20   C\n",
       "3  28-11-2020      23      1005  transfer  Persian          22   D\n",
       "4  28-11-2020      25      1002  decision    Hindi          11   B\n",
       "5  27-11-2020      11      1007  decision   French         104   D\n",
       "6  26-11-2020      23      1004      skip  Persian          56   A\n",
       "7  25-11-2020      20      1003  transfer  Italian          45   C"
      ]
     },
     "execution_count": 3,
     "metadata": {},
     "output_type": "execute_result"
    }
   ],
   "source": [
    "df.head(10)"
   ]
  },
  {
   "cell_type": "code",
   "execution_count": 4,
   "id": "46b6dc12-2d8a-4ad8-ba86-07684ea18438",
   "metadata": {
    "tags": []
   },
   "outputs": [],
   "source": [
    "cnn = mysql.connector.connect(\n",
    "    host='localhost',\n",
    "    user='root',\n",
    "    password='Root@123',\n",
    "    database='trianity_3'\n",
    ")\n",
    "\n",
    "cursor = cnn.cursor()"
   ]
  },
  {
   "cell_type": "code",
   "execution_count": 5,
   "id": "7538010a-d623-4fd0-8aed-7e4abaddcaeb",
   "metadata": {
    "tags": []
   },
   "outputs": [],
   "source": [
    "cursor.execute('''CREATE TABLE sqlproject1 (ds DATE,job_id INT, actor_id INT, event varchar(30), language varchar(30),time_spent INT,org varchar(10));''')"
   ]
  },
  {
   "cell_type": "code",
   "execution_count": 6,
   "id": "a22244a1-e217-471d-b3b6-3fd982dacdf6",
   "metadata": {
    "tags": []
   },
   "outputs": [],
   "source": [
    "for i,row in df.iterrows():\n",
    "            a = str(row[\"ds\"])\n",
    "            a = datetime.strptime( a , '%d-%m-%Y')\n",
    "            a = a.date()\n",
    "            b = row[\"job_id\"]\n",
    "            c = row[\"actor_id\"]\n",
    "            d = str(row[\"event\"])\n",
    "            e = str(row[\"language\"])\n",
    "            f = row[\"time_spent\"]\n",
    "            g = row[\"org\"]\n",
    "            sql = f\"INSERT INTO sqlproject1 (ds, job_id, actor_id, event, language, time_spent, org) VALUES ('{a}',{b},{c},'{d}','{e}',{f},'{g}');\"\n",
    "            cursor.execute(sql)\n",
    "            \n"
   ]
  },
  {
   "cell_type": "code",
   "execution_count": 8,
   "id": "51635368-82f2-46a1-99ac-fc87a3d703b2",
   "metadata": {
    "tags": []
   },
   "outputs": [],
   "source": [
    "# Question 1 "
   ]
  },
  {
   "cell_type": "code",
   "execution_count": 9,
   "id": "399e81d4-59f0-4878-b1ab-3f18afe531dd",
   "metadata": {
    "tags": []
   },
   "outputs": [],
   "source": [
    "cursor.execute('''CREATE VIEW jobs_reviewed_per_hour AS\n",
    "SELECT DATE_FORMAT(ds, '%Y-%m-%d %H:00:00') AS hour, COUNT(*) AS jobs_reviewed\n",
    "FROM sqlproject1\n",
    "WHERE ds >= '2020-11-01' AND ds < '2020-12-01'\n",
    "GROUP BY DATE_FORMAT(ds, '%Y-%m-%d %H:00:00')\n",
    "ORDER BY hour;\n",
    "''')\n",
    "\n"
   ]
  },
  {
   "cell_type": "code",
   "execution_count": 10,
   "id": "75f02c64-45dc-45d3-b367-f2b8dadca9ad",
   "metadata": {
    "tags": []
   },
   "outputs": [
    {
     "data": {
      "image/png": "[encoded data removed]",
      "text/plain": [
       "<Figure size 640x480 with 1 Axes>"
      ]
     },
     "metadata": {},
     "output_type": "display_data"
    }
   ],
   "source": [
    "cursor.execute('''SELECT * FROM jobs_reviewed_per_hour''')\n",
    "Date = []\n",
    "Job_reviewed = []\n",
    "for row in cursor:\n",
    "    Date.append(row[0])\n",
    "    Job_reviewed.append(row[1])\n",
    "    \n",
    "plt.plot(Date, Job_reviewed, marker='o', linestyle=' ', color='r')\n",
    "\n",
    "# Set labels and title\n",
    "plt.xlabel('Date')\n",
    "plt.ylabel('Job reviewed')\n",
    "plt.title('Graph')\n",
    "\n",
    "# Display the graph\n",
    "plt.show()\n"
   ]
  },
  {
   "cell_type": "code",
   "execution_count": 11,
   "id": "91ac595a-7b65-4be3-aaaf-d4ec490f3f14",
   "metadata": {
    "tags": []
   },
   "outputs": [],
   "source": [
    "# Question 2"
   ]
  },
  {
   "cell_type": "code",
   "execution_count": 12,
   "id": "9dfebc71-7359-4856-98ec-b3072c0a2d3d",
   "metadata": {
    "tags": []
   },
   "outputs": [],
   "source": [
    "cursor.execute('''CREATE VIEW rolling_avg_throughput AS\n",
    "SELECT ds, AVG(count_per_second) OVER (ORDER BY ds ROWS BETWEEN 6 PRECEDING AND CURRENT ROW) AS rolling_avg_throughput\n",
    "FROM (\n",
    "    SELECT ds, COUNT(*) AS count_per_second\n",
    "    FROM sqlproject1\n",
    "    GROUP BY ds\n",
    ") subquery;\n",
    "''')"
   ]
  },
  {
   "cell_type": "code",
   "execution_count": 13,
   "id": "21373c25-9233-4a30-898f-ee12c12d04da",
   "metadata": {
    "tags": []
   },
   "outputs": [
    {
     "name": "stdout",
     "output_type": "stream",
     "text": [
      "(datetime.date(2020, 11, 25), Decimal('1.0000'))\n",
      "(datetime.date(2020, 11, 26), Decimal('1.0000'))\n",
      "(datetime.date(2020, 11, 27), Decimal('1.0000'))\n",
      "(datetime.date(2020, 11, 28), Decimal('1.2500'))\n",
      "(datetime.date(2020, 11, 29), Decimal('1.2000'))\n",
      "(datetime.date(2020, 11, 30), Decimal('1.3333'))\n"
     ]
    }
   ],
   "source": [
    "cursor.execute('''SELECT * FROM rolling_avg_throughput''')\n",
    "\n",
    "for row in cursor: \n",
    "    print(row)"
   ]
  },
  {
   "cell_type": "code",
   "execution_count": 14,
   "id": "eea5fb31-5ca1-476c-abc1-b2307b2a501e",
   "metadata": {
    "tags": []
   },
   "outputs": [],
   "source": [
    "#Question 3"
   ]
  },
  {
   "cell_type": "code",
   "execution_count": 20,
   "id": "14a42d5a-4dc2-41cd-baae-8a1a06e79176",
   "metadata": {
    "tags": []
   },
   "outputs": [
    {
     "name": "stdout",
     "output_type": "stream",
     "text": [
      "('skip', 'English', Decimal('12.50000'))\n",
      "('transfer', 'Arabic', Decimal('12.50000'))\n",
      "('decision', 'Persian', Decimal('12.50000'))\n",
      "('transfer', 'Persian', Decimal('12.50000'))\n",
      "('decision', 'Hindi', Decimal('12.50000'))\n",
      "('decision', 'French', Decimal('12.50000'))\n",
      "('skip', 'Persian', Decimal('12.50000'))\n",
      "('transfer', 'Italian', Decimal('12.50000'))\n"
     ]
    }
   ],
   "source": [
    "cursor.execute('''\n",
    "SELECT event, language, COUNT(*) * 100.0 / (SELECT COUNT(*) FROM sqlproject1 WHERE event IS NOT NULL) AS percentage_share\n",
    "FROM sqlproject1\n",
    "WHERE event IS NOT NULL\n",
    "GROUP BY event, language;\n",
    "''')\n",
    "\n",
    "for row in cursor: \n",
    "    print(row)"
   ]
  },
  {
   "cell_type": "code",
   "execution_count": 21,
   "id": "c7760053-f5c6-4991-8640-fc2e30c28ca2",
   "metadata": {
    "tags": []
   },
   "outputs": [],
   "source": [
    "# Question 4"
   ]
  },
  {
   "cell_type": "code",
   "execution_count": 22,
   "id": "659da898-ecda-4c67-b687-fab97eb12545",
   "metadata": {
    "tags": []
   },
   "outputs": [],
   "source": [
    "cursor.execute('''\n",
    "CREATE VIEW duplicate_rows AS\n",
    "SELECT *\n",
    "FROM sqlproject1\n",
    "WHERE (job_id, actor_id, event, language, time_spent, org, ds) IN (\n",
    "    SELECT job_id, actor_id, event, language, time_spent, org, ds\n",
    "    FROM sqlproject1\n",
    "    GROUP BY job_id, actor_id, event, language, time_spent, org, ds\n",
    "    HAVING COUNT(*) > 1\n",
    ");\n",
    "''')\n",
    "\n"
   ]
  },
  {
   "cell_type": "code",
   "execution_count": 23,
   "id": "7a2fcc45-122d-4f91-92da-6df1194c9a09",
   "metadata": {
    "tags": []
   },
   "outputs": [],
   "source": [
    "cursor.execute('''SELECT * FROM duplicate_rows''')\n",
    "\n",
    "for row in cursor: \n",
    "    print(row)  "
   ]
  },
  {
   "cell_type": "code",
   "execution_count": 24,
   "id": "cf7af499-9496-4836-bdff-afb89046cb18",
   "metadata": {},
   "outputs": [],
   "source": [
    "cnn.commit()"
   ]
  },
  {
   "cell_type": "code",
   "execution_count": 26,
   "id": "faa11cc6-7291-4da9-8201-f45f4a2eba5b",
   "metadata": {},
   "outputs": [],
   "source": [
    "cnn.close()\n",
    "cnn.close()"
   ]
  }
 ],
 "metadata": {
  "kernelspec": {
   "display_name": "Python 3 (ipykernel)",
   "language": "python",
   "name": "python3"
  },
  "language_info": {
   "codemirror_mode": {
    "name": "ipython",
    "version": 3
   },
   "file_extension": ".py",
   "mimetype": "text/x-python",
   "name": "python",
   "nbconvert_exporter": "python",
   "pygments_lexer": "ipython3",
   "version": "3.11.3"
  }
 },
 "nbformat": 4,
 "nbformat_minor": 5
}
